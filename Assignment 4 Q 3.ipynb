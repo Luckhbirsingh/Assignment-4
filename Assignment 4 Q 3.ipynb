{
 "cells": [
  {
   "cell_type": "code",
   "execution_count": 26,
   "id": "1c4ae0c1",
   "metadata": {},
   "outputs": [
    {
     "name": "stdout",
     "output_type": "stream",
     "text": [
      "the orignal list [4, 5, 2, 9]\n",
      "expected output list\n",
      "[16, 25, 4, 81]\n"
     ]
    }
   ],
   "source": [
    "# Write a Python program to square the elements of a list using map() function.\n",
    "\n",
    "def square(n):\n",
    "    return n*n\n",
    "    List = [4, 5, 2, 9]\n",
    "print(\"the orignal list\", List)\n",
    "for i in List:\n",
    "    result = map(square, List)\n",
    "print(\"expected output list\")\n",
    "print(list(result))"
   ]
  },
  {
   "cell_type": "code",
   "execution_count": null,
   "id": "6d00a1bd",
   "metadata": {},
   "outputs": [],
   "source": []
  }
 ],
 "metadata": {
  "kernelspec": {
   "display_name": "Python 3 (ipykernel)",
   "language": "python",
   "name": "python3"
  },
  "language_info": {
   "codemirror_mode": {
    "name": "ipython",
    "version": 3
   },
   "file_extension": ".py",
   "mimetype": "text/x-python",
   "name": "python",
   "nbconvert_exporter": "python",
   "pygments_lexer": "ipython3",
   "version": "3.10.0"
  }
 },
 "nbformat": 4,
 "nbformat_minor": 5
}
